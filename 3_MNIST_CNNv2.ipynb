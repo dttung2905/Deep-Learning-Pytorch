{
  "cells": [
    {
      "metadata": {
        "_uuid": "8f2839f25d086af736a60e9eeb907d3b93b6e0e5",
        "_cell_guid": "b1076dfc-b9ad-4769-8c92-a6c4dae69d19",
        "trusted": true
      },
      "cell_type": "markdown",
      "source": "# 3.Computer Vision : CNN for digit recognition "
    },
    {
      "metadata": {
        "_cell_guid": "79c7e3d0-c299-4dcb-8224-4455121ee9b0",
        "_uuid": "d629ff2d2480ee46fbb7e2d37f6b5fab8052498a",
        "trusted": true
      },
      "cell_type": "code",
      "source": "import torch \nimport torch.cuda as cuda \nimport torch.nn as nn\nimport matplotlib.pyplot as plt\n\nfrom torch.autograd import Variable \n\nfrom torchvision import datasets\nfrom torchvision import transforms \n\nimport torch.nn.functional as F",
      "execution_count": 1,
      "outputs": []
    },
    {
      "metadata": {
        "trusted": true,
        "_uuid": "6ea07bba51b465caea4185ec6aa6dca0fc07a326"
      },
      "cell_type": "code",
      "source": "## Create data loader\nmean_gray = 0.1307\nstddev_gray = 0.3081 \ntransform = transforms.Compose([transforms.ToTensor(),\n                              transforms.Normalize((mean_gray,),(stddev_gray,))])\n\nmnist_train = datasets.MNIST('./data', train=True, download=True, transform=transform)\nmnist_valid = datasets.MNIST('./data', train=False, download=True, transform=transform)",
      "execution_count": 2,
      "outputs": [
        {
          "output_type": "stream",
          "text": "Downloading http://yann.lecun.com/exdb/mnist/train-images-idx3-ubyte.gz\nDownloading http://yann.lecun.com/exdb/mnist/train-labels-idx1-ubyte.gz\nDownloading http://yann.lecun.com/exdb/mnist/t10k-images-idx3-ubyte.gz\nDownloading http://yann.lecun.com/exdb/mnist/t10k-labels-idx1-ubyte.gz\nProcessing...\nDone!\n",
          "name": "stdout"
        }
      ]
    },
    {
      "metadata": {
        "trusted": true,
        "_uuid": "92a70727e229e3bb0fc7cd1cfe225b8eaf0eec41"
      },
      "cell_type": "code",
      "source": "img = mnist_train[12][0].numpy() * stddev_gray + mean_gray\n",
      "execution_count": 3,
      "outputs": []
    },
    {
      "metadata": {
        "trusted": true,
        "_uuid": "f3c0ad2a06d1ae3ac8b46ff214acc42aabe8cb89"
      },
      "cell_type": "code",
      "source": "plt.imshow(img.reshape(28, 28), cmap='gray')\n",
      "execution_count": 4,
      "outputs": [
        {
          "output_type": "execute_result",
          "execution_count": 4,
          "data": {
            "text/plain": "<matplotlib.image.AxesImage at 0x7f52f82de898>"
          },
          "metadata": {}
        },
        {
          "output_type": "display_data",
          "data": {
            "text/plain": "<Figure size 432x288 with 1 Axes>",
            "image/png": "[encoded data removed]"
          },
          "metadata": {}
        }
      ]
    },
    {
      "metadata": {
        "trusted": true,
        "_uuid": "f92c4fc4ff68b11e04f98e377b7cceb7ae821121"
      },
      "cell_type": "code",
      "source": "label = mnist_train[12][1]\nlabel",
      "execution_count": 5,
      "outputs": [
        {
          "output_type": "execute_result",
          "execution_count": 5,
          "data": {
            "text/plain": "tensor(3)"
          },
          "metadata": {}
        }
      ]
    },
    {
      "metadata": {
        "trusted": true,
        "_uuid": "7d83bb2107c05f0e87ea71eed780a91236ca7bfd"
      },
      "cell_type": "code",
      "source": "batch_size= 1024",
      "execution_count": 6,
      "outputs": []
    },
    {
      "metadata": {
        "trusted": true,
        "_uuid": "4871a7e9870d32abc4cb913e6cbccb803168c65e"
      },
      "cell_type": "code",
      "source": "mnist_train_loader = torch.utils.data.DataLoader(mnist_train, batch_size=batch_size, shuffle=True, num_workers=1)\nmnist_valid_loader = torch.utils.data.DataLoader(mnist_valid, batch_size=batch_size, shuffle=True, num_workers=1)",
      "execution_count": 7,
      "outputs": []
    },
    {
      "metadata": {
        "trusted": true,
        "_uuid": "85035a8bf62bf026eaac7700abde3af0a6bbc0fa"
      },
      "cell_type": "code",
      "source": "class MNISTNet(nn.Module):\n    \n    def __init__(self):\n        super().__init__()\n               \n        # NOTE: All Conv2d layers have a default padding of 0 and stride of 1,\n        # which is what we are using.\n        \n        # Convolution Layer 1                             # 28 x 28 x 1  (input)\n        self.conv1 = nn.Conv2d(1, 20, kernel_size=5)      # 24 x 24 x 20  (after 1st convolution)\n        self.relu1 = nn.ReLU()                            # Same as above\n        \n        # Convolution Layer 2\n        self.conv2 = nn.Conv2d(20, 30, kernel_size=5)     # 20 x 20 x 30  (after 2nd convolution)\n        self.conv2_drop = nn.Dropout2d(p=0.5)             # Same as above\n        self.maxpool2 = nn.MaxPool2d(2)                   # 10 x 10 x 30  (after pooling)\n        self.relu2 = nn.ReLU()                            # Same as above \n        \n        # Fully connected layers\n        self.fc1 = nn.Linear(3000, 500)\n        self.fc2 = nn.Linear(500, 10)\n\n    def forward(self, x):\n        \n        # Convolution Layer 1                    \n        x = self.conv1(x)                        \n        x = self.relu1(x)                        \n        \n        # Convolution Layer 2\n        x = self.conv2(x)               \n        x = self.conv2_drop(x)\n        x = self.maxpool2(x)\n        x = self.relu2(x)\n        \n        # Switch from activation maps to vectors\n        x = x.view(-1, 3000)\n        \n        # Fully connected layer 1\n        x = self.fc1(x)\n        x = F.relu(x)\n        x = F.dropout(x, training=True)\n        \n        # Fully connected layer 2\n        x = self.fc2(x)\n        \n        return x",
      "execution_count": 8,
      "outputs": []
    },
    {
      "metadata": {
        "_uuid": "a5d77175429c32fa59a28a6dfb221ac0cd60482c"
      },
      "cell_type": "markdown",
      "source": "# Create the Object"
    },
    {
      "metadata": {
        "trusted": true,
        "_uuid": "f97dcae1967f2cdea8b978d7561438cb216bb178"
      },
      "cell_type": "code",
      "source": "# Model\nnet = MNISTNet()\n\nif cuda.is_available():\n    net = net.cuda()\n    \n\n# Our loss function\ncriterion = nn.CrossEntropyLoss()\n\n#Optimizer\nlearning_rate = 0.01\noptimizer = torch.optim.SGD(net.parameters(),lr = learning_rate, momentum = 0.9)\n\n\n    \n    \n    \n    \n",
      "execution_count": 9,
      "outputs": []
    },
    {
      "metadata": {
        "_uuid": "3f5da1454a6ef6e174794e0184b9aadcdbcc22c8"
      },
      "cell_type": "markdown",
      "source": "# Training Loop"
    },
    {
      "metadata": {
        "trusted": true,
        "_uuid": "fff13865dbc964d676b1a46a9a28985477e4c234"
      },
      "cell_type": "code",
      "source": "num_epochs = 10\n\ntrain_loss = []\nvalid_loss = []\ntrain_accuracy = []\nvalid_accuracy = []\n\nfor epoch in range(num_epochs):\n    \n    ############################\n    # Train\n    ############################\n    \n    iter_loss = 0.0\n    correct = 0\n    iterations = 0\n    \n    net.train()                   # Put the network into training mode\n    \n    for i, (items, classes) in enumerate(mnist_train_loader):\n        \n        # Convert torch tensor to Variable\n        items = Variable(items)\n        classes = Variable(classes)\n        \n        # If we have GPU, shift the data to GPU\n        if cuda.is_available():\n            items = items.cuda()\n            classes = classes.cuda()\n        \n        optimizer.zero_grad()     # Clear off the gradients from any past operation\n        outputs = net(items)      # Do the forward pass\n        loss = criterion(outputs, classes) # Calculate the loss\n        iter_loss += loss.item() # Accumulate the loss\n        loss.backward()           # Calculate the gradients with help of back propagation\n        optimizer.step()          # Ask the optimizer to adjust the parameters based on the gradients\n        \n        # Record the correct predictions for training data \n        _, predicted = torch.max(outputs.data, 1)\n        correct += (predicted == classes.data).sum()\n        iterations += 1\n    \n    # Record the training loss\n    train_loss.append(iter_loss/iterations)\n    # Record the training accuracy\n    train_accuracy.append((100 * correct / len(mnist_train_loader.dataset)))\n    \n    \n    ############################\n    # Validate - How did we do on the unseen dataset?\n    ############################\n    \n    loss = 0.0\n    correct = 0\n    iterations = 0\n\n    net.eval()                    # Put the network into evaluate mode\n    \n    for i, (items, classes) in enumerate(mnist_valid_loader):\n        \n        # Convert torch tensor to Variable\n        items = Variable(items)\n        classes = Variable(classes)\n        \n        # If we have GPU, shift the data to GPU\n        if cuda.is_available():\n            items = items.cuda()\n            classes = classes.cuda()\n        \n        outputs = net(items)      # Do the forward pass\n        loss += criterion(outputs, classes).item() # Calculate the loss\n        \n        # Record the correct predictions for training data\n        _, predicted = torch.max(outputs.data, 1)\n        correct += (predicted == classes.data).sum()\n        \n        iterations += 1\n\n    # Record the validation loss\n    valid_loss.append(loss/iterations)\n    # Record the validation accuracy\n    valid_accuracy.append(correct / len(mnist_valid_loader.dataset) * 100.0)\n\n    \n    print ('Epoch %d/%d, Tr Loss: %.4f, Tr Acc: %.4f, Val Loss: %.4f, Val Acc: %.4f'\n           %(epoch+1, num_epochs, train_loss[-1], train_accuracy[-1], \n             valid_loss[-1], valid_accuracy[-1]))",
      "execution_count": 10,
      "outputs": [
        {
          "output_type": "stream",
          "text": "Epoch 1/10, Tr Loss: 1.2310, Tr Acc: 61.0000, Val Loss: 0.3358, Val Acc: 0.0000\nEpoch 2/10, Tr Loss: 0.3195, Tr Acc: 90.0000, Val Loss: 0.1910, Val Acc: 0.0000\nEpoch 3/10, Tr Loss: 0.2241, Tr Acc: 93.0000, Val Loss: 0.1384, Val Acc: 0.0000\nEpoch 4/10, Tr Loss: 0.1714, Tr Acc: 94.0000, Val Loss: 0.1108, Val Acc: 0.0000\nEpoch 5/10, Tr Loss: 0.1446, Tr Acc: 95.0000, Val Loss: 0.0927, Val Acc: 0.0000\nEpoch 6/10, Tr Loss: 0.1274, Tr Acc: 96.0000, Val Loss: 0.0864, Val Acc: 0.0000\nEpoch 7/10, Tr Loss: 0.1116, Tr Acc: 96.0000, Val Loss: 0.0770, Val Acc: 0.0000\nEpoch 8/10, Tr Loss: 0.1031, Tr Acc: 96.0000, Val Loss: 0.0680, Val Acc: 0.0000\nEpoch 9/10, Tr Loss: 0.0945, Tr Acc: 97.0000, Val Loss: 0.0626, Val Acc: 0.0000\nEpoch 10/10, Tr Loss: 0.0895, Tr Acc: 97.0000, Val Loss: 0.0566, Val Acc: 0.0000\n",
          "name": "stdout"
        }
      ]
    },
    {
      "metadata": {
        "trusted": true,
        "_uuid": "a5cc1262114239248355a7019ff073763695eacb"
      },
      "cell_type": "code",
      "source": "torch.save(net.state_dict(),\"./3.model.pth\")",
      "execution_count": 11,
      "outputs": []
    },
    {
      "metadata": {
        "_uuid": "8780af5ced027e6143113dd93b27e0b4537d6aea"
      },
      "cell_type": "markdown",
      "source": "## Visualize the loss and accuracy "
    },
    {
      "metadata": {
        "trusted": true,
        "_uuid": "caec1659542cb377d1ac75ba7cc1e2dee8a4c226"
      },
      "cell_type": "code",
      "source": "# loss\n\nf = plt.figure(figsize= (10,8))\nplt.plot(train_loss, label = 'training loss')\nplt.plot(valid_loss, label = 'validation loss')\nplt.legend()\nplt.show()",
      "execution_count": 12,
      "outputs": [
        {
          "output_type": "display_data",
          "data": {
            "text/plain": "<Figure size 720x576 with 1 Axes>",
            "image/png": "[encoded data removed]"
          },
          "metadata": {}
        }
      ]
    },
    {
      "metadata": {
        "trusted": true,
        "_uuid": "754ead9a4eda21e95a149513a4091e0c7a0f4645"
      },
      "cell_type": "code",
      "source": "#Accuracy\nf = plt.figure(figsize = (10,8))\nplt.plot(train_accuracy, label = 'training accuracy')\nplt.plot(valid_accuracy, label = 'validation accuracy')\nplt.legend()\nplt.show()",
      "execution_count": 14,
      "outputs": [
        {
          "output_type": "display_data",
          "data": {
            "text/plain": "<Figure size 720x576 with 1 Axes>",
            "image/png": "[encoded data removed]"
          },
          "metadata": {}
        }
      ]
    },
    {
      "metadata": {
        "_uuid": "3e7e7acfdac5ea61b0b9ea773634d76420f1c879"
      },
      "cell_type": "markdown",
      "source": "## Standalone inference "
    },
    {
      "metadata": {
        "trusted": true,
        "_uuid": "d8ad2dd21cbd9fb56b361c203981091fc51b85fc"
      },
      "cell_type": "code",
      "source": "image_index = 23 \nimg = mnist_valid[image_index][0].resize_((1,1,28,28))\nimg = Variable(img)\nlabel = mnist_valid[image_index][1]\n\nnet.eval()\n\nif cuda.is_available():\n    net = net.cuda()\n    img = img.cuda()\nelse:\n    net = net.cpu()\n    img = img.cpu()\n    \noutput = net(img)",
      "execution_count": 15,
      "outputs": []
    },
    {
      "metadata": {
        "trusted": true,
        "_uuid": "1b532f5819777d67a93f4bad635e5bab53446f54"
      },
      "cell_type": "code",
      "source": "output.data",
      "execution_count": 16,
      "outputs": [
        {
          "output_type": "execute_result",
          "execution_count": 16,
          "data": {
            "text/plain": "tensor([[-0.6987, -1.4065, -4.0337,  0.1724, -7.5608, 15.9909,  5.5318, -9.0471,\n          0.1147,  3.3158]])"
          },
          "metadata": {}
        }
      ]
    },
    {
      "metadata": {
        "trusted": true,
        "_uuid": "36438029891f2a420d0ae290d93d0fc280f2dfb5"
      },
      "cell_type": "code",
      "source": "_, predicted = torch.max(output.data, 1)\nprint(\"Prediction is: \", predicted)",
      "execution_count": 17,
      "outputs": [
        {
          "output_type": "stream",
          "text": "Prediction is:  tensor([5])\n",
          "name": "stdout"
        }
      ]
    },
    {
      "metadata": {
        "trusted": true,
        "_uuid": "6d46f59b32b4fe4be578926572d7b6640bfbb73c"
      },
      "cell_type": "code",
      "source": "print(\"Actual is is: \", label)",
      "execution_count": 18,
      "outputs": [
        {
          "output_type": "stream",
          "text": "Actual is is:  tensor(5)\n",
          "name": "stdout"
        }
      ]
    },
    {
      "metadata": {
        "trusted": true,
        "_uuid": "9210e73aa09889520bf18c4d352d1e9d296c33cf"
      },
      "cell_type": "code",
      "source": "",
      "execution_count": null,
      "outputs": []
    }
  ],
  "metadata": {
    "kernelspec": {
      "display_name": "Python 3",
      "language": "python",
      "name": "python3"
    },
    "language_info": {
      "name": "python",
      "version": "3.6.6",
      "mimetype": "text/x-python",
      "codemirror_mode": {
        "name": "ipython",
        "version": 3
      },
      "pygments_lexer": "ipython3",
      "nbconvert_exporter": "python",
      "file_extension": ".py"
    }
  },
  "nbformat": 4,
  "nbformat_minor": 1
}